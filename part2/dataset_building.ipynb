{
 "cells": [
  {
   "cell_type": "code",
   "execution_count": 26,
   "id": "0a41e211",
   "metadata": {},
   "outputs": [],
   "source": [
    "import os\n",
    "import sys\n",
    "import numpy as np\n",
    "import matplotlib.image as image\n",
    "from PIL import Image as im\n",
    "import random"
   ]
  },
  {
   "cell_type": "markdown",
   "id": "12771bbc",
   "metadata": {},
   "source": [
    "#### Filter the center point of each traffic-light from all traffic-light points"
   ]
  },
  {
   "cell_type": "code",
   "execution_count": 27,
   "id": "f25dc67d",
   "metadata": {},
   "outputs": [],
   "source": [
    "def minimize_locations(locations):\n",
    "    rows, cols = locations[0], locations[1]\n",
    "    x_coordinate, y_coordinate = [], []\n",
    "    if len(rows) and len(cols):\n",
    "        first_point = (rows[0], cols[0])\n",
    "    for i in range(1, len(rows)):\n",
    "        if rows[i - 1] + 1 < rows[i]:\n",
    "            mid_row = (first_point[0] + rows[i - 1]) // 2\n",
    "            mid_col = (first_point[1] + cols[i - 1]) // 2\n",
    "            x_coordinate += [mid_col]\n",
    "            y_coordinate += [mid_row]\n",
    "            first_point = (rows[i], cols[i])     \n",
    "    return x_coordinate, y_coordinate"
   ]
  },
  {
   "cell_type": "markdown",
   "id": "865d2653",
   "metadata": {},
   "source": [
    "#### return random non traffic-light points from image "
   ]
  },
  {
   "cell_type": "code",
   "execution_count": 28,
   "id": "e1744737",
   "metadata": {},
   "outputs": [],
   "source": [
    "def get_random_coord(length, image):\n",
    "    non_traffic_lights_locations=([],[])\n",
    "    for _ in range(length):\n",
    "        flag=False\n",
    "        while not flag:\n",
    "            flag = True\n",
    "            row = random.randint(0,942)\n",
    "            col = random.randint(0,1966)\n",
    "            for i in range(81):\n",
    "                for j in range(81):\n",
    "                    if row+i < 1024 and col+j < 2048 and image[row+i, col+j] == 19:\n",
    "                        flag = False\n",
    "                        break\n",
    "            if flag:\n",
    "                non_traffic_lights_locations[0].append(row)\n",
    "                non_traffic_lights_locations[1].append(col)\n",
    "    return non_traffic_lights_locations"
   ]
  },
  {
   "cell_type": "markdown",
   "id": "f5c3cf99",
   "metadata": {},
   "source": [
    "#### Return dict {key=name of image: value=(traffic-light points, non traffic-light points)}"
   ]
  },
  {
   "cell_type": "code",
   "execution_count": 29,
   "id": "fa0d6779",
   "metadata": {},
   "outputs": [],
   "source": [
    "def load_data(folder_path, data_kind):\n",
    "    folder_path = folder_path + 'gtFine/' + data_kind\n",
    "    traffic_lights_locations_dict={}\n",
    "    for root, dirs, files in os.walk(folder_path):\n",
    "        for file in files:\n",
    "            if file.endswith('labelIds.png'):\n",
    "                image_path = root+'/'+file\n",
    "                image = np.asarray(im.open(image_path))\n",
    "                traffic_lights_locations = np.where(image==19)\n",
    "                traffic_lights_locations = minimize_locations(traffic_lights_locations)\n",
    "                non_traffic_lights_locations = get_random_coord(len(traffic_lights_locations[0]), image)\n",
    "                traffic_lights_locations_dict[file[:file.find('_gtFine_labelIds.png')]] = (traffic_lights_locations[0], traffic_lights_locations[1], non_traffic_lights_locations[0], non_traffic_lights_locations[1])\n",
    "    return traffic_lights_locations_dict"
   ]
  },
  {
   "cell_type": "markdown",
   "id": "3ef989d6",
   "metadata": {},
   "source": [
    "#### Return images as np arrays and their classification."
   ]
  },
  {
   "cell_type": "code",
   "execution_count": 39,
   "id": "be12fed8",
   "metadata": {},
   "outputs": [],
   "source": [
    "def classify_and_cut(folder_path, data_kind, tfl_locations):\n",
    "    folder_path = folder_path + 'data/' + 'leftImg8bit/' + data_kind\n",
    "    images, classify = [], []\n",
    "    for root, dirs, files in os.walk(folder_path):\n",
    "        for file in files:            \n",
    "            if file.endswith('_leftImg8bit.png'):\n",
    "                file_path = root + '/' + file\n",
    "                image_name = file[:file.find('_leftImg8bit.png')]\n",
    "                x_tfl , y_tfl, x_random, y_random = tfl_locations[image_name][0], tfl_locations[image_name][1], tfl_locations[image_name][2], tfl_locations[image_name][3]\n",
    "                image = im.open(file_path)\n",
    "                for i in range(len(x_tfl)):\n",
    "                    x, y = x_tfl[i], y_tfl[i]\n",
    "                    w, h = image.size[0] - 1, image.size[1] - 1\n",
    "                    left, top, right, bottom = max(0, x - 40), max(y - 40, 0), min(w, x + 41), min(y + 41, h)\n",
    "                    if x - 40 < 0:\n",
    "                        left, right = 0, 81\n",
    "                    if y - 40 < 0:\n",
    "                        top, bottom = 0, 81\n",
    "                    if x + 41 > w:\n",
    "                        left, right = w - 81, w\n",
    "                    if y + 41 > h:\n",
    "                        top, bottom = h - 81, h\n",
    "                    crop_im = image.crop((left, top, right, bottom))\n",
    "                    images.append(np.asarray(crop_im, dtype=np.uint8))\n",
    "                    classify.append(1)\n",
    "                for i in range(len(x_random)):\n",
    "                    x, y = x_random[i], y_random[i]\n",
    "                    left, top, right, bottom= y, x, y + 81,x + 81\n",
    "                    crop_im = image.crop((left, top, right, bottom))\n",
    "                    images.append(np.asarray(crop_im, dtype=np.uint8))\n",
    "                    classify.append(0)\n",
    "    return images, classify"
   ]
  },
  {
   "cell_type": "markdown",
   "id": "1f03e4dd",
   "metadata": {},
   "source": [
    "#### Save data to binary files"
   ]
  },
  {
   "cell_type": "code",
   "execution_count": 40,
   "id": "6bbfd11a",
   "metadata": {},
   "outputs": [],
   "source": [
    "def save_data(images, classify, file_path):\n",
    "    for i in range(len(images)):\n",
    "        data = file_path+'data.bin'\n",
    "        label = file_path+'labels.bin'\n",
    "        image = np.asarray(images[i], dtype=np.uint8)\n",
    "        with open(data, 'ab') as data_bin:\n",
    "            data_bin.write(image.tobytes())\n",
    "        with open(label, 'ab') as labels_bin:\n",
    "            labels_bin.write(classify[i].to_bytes(1, 'little'))"
   ]
  },
  {
   "cell_type": "markdown",
   "id": "23d7f93c",
   "metadata": {},
   "source": [
    "#### The main - building dataset"
   ]
  },
  {
   "cell_type": "code",
   "execution_count": 41,
   "id": "e708b53c",
   "metadata": {
    "scrolled": true
   },
   "outputs": [],
   "source": [
    "def dataset_building(data_kind):\n",
    "    path = '.../'\n",
    "    tfl_locations_dict = load_data(path, data_kind)\n",
    "    images, classify = classify_and_cut(path, data_kind, tfl_locations_dict)\n",
    "    file_path = './Data_dir/' + data_kind + '/'\n",
    "    save_data(images, classify, file_path)"
   ]
  },
  {
   "cell_type": "code",
   "execution_count": 42,
   "id": "adf375ec",
   "metadata": {
    "scrolled": false
   },
   "outputs": [
    {
     "name": "stdout",
     "output_type": "stream",
     "text": [
      ".../gtFine/train\n"
     ]
    }
   ],
   "source": [
    "dataset_building('train')"
   ]
  },
  {
   "cell_type": "code",
   "execution_count": 22,
   "id": "a1528404",
   "metadata": {},
   "outputs": [
    {
     "name": "stdout",
     "output_type": "stream",
     "text": [
      ".../gtFine/val\n"
     ]
    }
   ],
   "source": [
    "dataset_building('val')"
   ]
  },
  {
   "cell_type": "code",
   "execution_count": null,
   "id": "f834235b",
   "metadata": {},
   "outputs": [],
   "source": []
  }
 ],
 "metadata": {
  "kernelspec": {
   "display_name": "Python 3 (ipykernel)",
   "language": "python",
   "name": "python3"
  },
  "language_info": {
   "codemirror_mode": {
    "name": "ipython",
    "version": 3
   },
   "file_extension": ".py",
   "mimetype": "text/x-python",
   "name": "python",
   "nbconvert_exporter": "python",
   "pygments_lexer": "ipython3",
   "version": "3.9.10"
  }
 },
 "nbformat": 4,
 "nbformat_minor": 5
}
